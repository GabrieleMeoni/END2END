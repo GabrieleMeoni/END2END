{
 "cells": [
  {
   "cell_type": "markdown",
   "metadata": {},
   "source": [
    "# Notebook to update geographical split dictionaries"
   ]
  },
  {
   "cell_type": "code",
   "execution_count": null,
   "metadata": {},
   "outputs": [],
   "source": [
    "%load_ext autoreload\n",
    "%autoreload 2"
   ]
  },
  {
   "cell_type": "code",
   "execution_count": null,
   "metadata": {},
   "outputs": [],
   "source": [
    "import os\n",
    "import numpy as np\n",
    "from glob import glob"
   ]
  },
  {
   "cell_type": "markdown",
   "metadata": {},
   "source": [
    "Path to event and not event."
   ]
  },
  {
   "cell_type": "code",
   "execution_count": null,
   "metadata": {},
   "outputs": [],
   "source": [
    "event_path=\"/data/PyDeepLearning/DATASETS/THRAWS/TrainVal/event\"\n",
    "not_event_path=\"/data/PyDeepLearning/DATASETS/THRAWS/TrainVal/notevent\""
   ]
  },
  {
   "cell_type": "markdown",
   "metadata": {},
   "source": [
    "Creation of fire and volcanoes events locations dictionaries."
   ]
  },
  {
   "cell_type": "code",
   "execution_count": null,
   "metadata": {},
   "outputs": [],
   "source": [
    "events=glob(os.path.join(event_path,\"*\"))\n",
    "events=[event.split(os.sep)[-1].split(\"(\")[0].split(\"_G\")[0] for event in events]\n",
    "volcanoes=[event[:-3] for event in events if event[-2] != \"_\"]\n",
    "volcano_events_locations_dict=dict(zip(sorted(list(set(volcanoes))), [np.sum(np.array(volcanoes) == volcano) for volcano in sorted(list(set(volcanoes)))]))\n",
    "fires=[event[:-2] for event in events if event[-2] == \"_\"]\n",
    "fire_events_locations_dict=dict(zip(sorted(list(set(fires))), [np.sum(np.array(fires) == fire) for fire in sorted(list(set(fires)))]))\n",
    "notevents=glob(os.path.join(not_event_path,\"*\"))\n",
    "notevents=[nonevent.split(os.sep)[-1].split(\"(\")[0].split(\"_G\")[0] for nonevent in notevents]\n",
    "volcanoes_ne=[notevent[:-3] for notevent in notevents if notevent[-2] != \"_\"]\n",
    "volcano_not_events_locations_dict=dict(zip(sorted(list(set(volcanoes_ne))), [np.sum(np.array(volcanoes_ne) == volcano_ne) for volcano_ne in sorted(list(set(volcanoes_ne)))]))\n",
    "fires_ne=[notevent[:-2] for notevent in notevents if notevent[-2] == \"_\"]\n",
    "fire_not_events_locations_dict=dict(zip(sorted(list(set(fires_ne))), [np.sum(np.array(fires_ne) == fire_ne) for fire_ne in sorted(list(set(fires_ne)))]))"
   ]
  },
  {
   "cell_type": "markdown",
   "metadata": {},
   "source": [
    "Print results."
   ]
  },
  {
   "cell_type": "code",
   "execution_count": null,
   "metadata": {},
   "outputs": [],
   "source": [
    "print(\"volcano_events_locations_dict = \"+str(volcano_events_locations_dict)+\"\\n\\n\")\n",
    "print(\"fire_events_locations_dict = \"+str(fire_events_locations_dict)+\"\\n\\n\")\n",
    "print(\"volcano_not_events_locations_dict = \"+str(volcano_not_events_locations_dict)+\"\\n\\n\")\n",
    "print(\"fire_not_events_locations_dict = \"+str(fire_not_events_locations_dict)+\"\\n\\n\")"
   ]
  },
  {
   "cell_type": "code",
   "execution_count": null,
   "metadata": {},
   "outputs": [],
   "source": []
  }
 ],
 "metadata": {
  "kernelspec": {
   "display_name": "Python 3 (ipykernel)",
   "language": "python",
   "name": "python3"
  },
  "language_info": {
   "codemirror_mode": {
    "name": "ipython",
    "version": 3
   },
   "file_extension": ".py",
   "mimetype": "text/x-python",
   "name": "python",
   "nbconvert_exporter": "python",
   "pygments_lexer": "ipython3",
   "version": "3.8.16"
  }
 },
 "nbformat": 4,
 "nbformat_minor": 2
}

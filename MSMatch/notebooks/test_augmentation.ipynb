{
 "cells": [
  {
   "cell_type": "markdown",
   "metadata": {},
   "source": [
    "# Augmentation notebook"
   ]
  },
  {
   "cell_type": "code",
   "execution_count": null,
   "metadata": {},
   "outputs": [],
   "source": [
    "import sys\n",
    "sys.path.insert(1,\"..\")\n",
    "from datasets.augmentation.randaugment import RandAugment\n",
    "import matplotlib.pyplot as plt\n",
    "import random\n",
    "from PIL import Image\n",
    "import pandas as pd\n",
    "from skimage import img_as_ubyte\n",
    "import os\n",
    "from torchvision import transforms\n",
    "import numpy as np"
   ]
  },
  {
   "cell_type": "markdown",
   "metadata": {},
   "source": [
    "## 1 - Control flags and  image paths"
   ]
  },
  {
   "cell_type": "code",
   "execution_count": null,
   "metadata": {},
   "outputs": [],
   "source": [
    "img_path=\"/home/gabrielemeoni/project/end2end/END2END/MSMatch/DATA/warmup_events_dataset/event/Etna_03_G1_(0,_768,_256,_1024)_A21.00.pkl\" #img path\n",
    "augmentation_type = \"strong\" #Supported: strong, weak"
   ]
  },
  {
   "cell_type": "markdown",
   "metadata": {},
   "source": [
    "For strong augmentations, it is possible to use a custom augmentation policy selecting only among the possible augmentations.\n",
    "To this aim, you can use `strong_augmentation_wanted` list. To use all the possible augmentations, select `strong_augmentation_wanted=[\"all\"]`; otherwise, fill the list through the wanted augmentations. Supported augmentations are:\n",
    "\n",
    "<ul>\n",
    "    <li>\"AutoContrast\"</li>\n",
    "    <li>\"Brightness\"</li>\n",
    "    <li>\"Color\"</li>\n",
    "    <li>\"Contrast\"</li>\n",
    "    <li>\"Equalize\"</li>\n",
    "    <li>\"Identity</li>\n",
    "    <li>\"Posterize\"</li>\n",
    "    <li>\"Rotate\"</li>\n",
    "    <li>\"Sharpness\"</li>\n",
    "    <li>\"ShearX\"</li>\n",
    "    <li>\"ShearY\"</li>\n",
    "    <li>\"Solarize\"</li>\n",
    "    <li>\"TranslateX\"</li>\n",
    "    <li>\"TranslateY\"</li>\n",
    "</ul>"
   ]
  },
  {
   "cell_type": "code",
   "execution_count": null,
   "metadata": {},
   "outputs": [],
   "source": [
    "augmentations_list=[\"AutoContrast\", \"Brightness\",\"Color\",\"Contrast\",\"Equalize\",\"Identity\",\"Posterize\",\"Rotate\",\"Sharpness\",\"ShearX\",\"ShearY\",\"Solarize\",\"TranslateX\",\"TranslateY\"] "
   ]
  },
  {
   "cell_type": "markdown",
   "metadata": {},
   "source": [
    "## 2- Opening and plotting the original image"
   ]
  },
  {
   "cell_type": "code",
   "execution_count": null,
   "metadata": {},
   "outputs": [],
   "source": [
    "img = img_as_ubyte(pd.read_pickle(img_path)/4095)"
   ]
  },
  {
   "cell_type": "code",
   "execution_count": null,
   "metadata": {},
   "outputs": [],
   "source": [
    "image_name = img_path[img_path.rfind('/')+1:img_path.rfind('.')] #finding image name\n",
    "plt.title(\"Original image: \"+ str(image_name), fontsize=14, fontweight='bold')\n",
    "plt.imshow(img)"
   ]
  },
  {
   "cell_type": "markdown",
   "metadata": {},
   "source": [
    "# 3. Create a function to apply augmentations"
   ]
  },
  {
   "cell_type": "code",
   "execution_count": null,
   "metadata": {},
   "outputs": [],
   "source": [
    "def apply_augment(img, strong_augmentation_wanted):\n",
    "    transform = transforms.Compose(\n",
    "            [\n",
    "                transforms.ToTensor(),\n",
    "                transforms.RandomHorizontalFlip(),\n",
    "                transforms.RandomAffine(0,translate=(0,0.125)),\n",
    "            ]\n",
    "        )\n",
    "    transform_to_img = transforms.ToPILImage()\n",
    "    img = (transform_to_img(transform(img)))\n",
    "\n",
    "\n",
    "    if augmentation_type == \"strong\": \n",
    "        randaugment = RandAugment(3, 5, False)\n",
    "        #it might be useful to extract specific augmentation transforms from the list. \n",
    "        randaugment_dict = {\"AutoContrast\" : 0, \"Brightness\" : 1, \"Color\" : 2, \"Contrast\" : 3,\"Equalize\" : 4,\"Identity\" : 5,\"Posterize\" : 6,\"Rotate\" : 7,\"Sharpness\" : 8,\"ShearX\" : 9,\"ShearY\" : 10,\"Solarize\" : 11,\"TranslateX\" : 12,\"TranslateY\" : 13}\n",
    "\n",
    "        if strong_augmentation_wanted[0] == \"all\":\n",
    "            augment_list = randaugment.augment_list\n",
    "        else:\n",
    "            augment_list = []\n",
    "            for augmentation in strong_augmentation_wanted:\n",
    "                augment_list.append(randaugment.augment_list[randaugment_dict[augmentation]])\n",
    "\n",
    "        for op, min_val, max_val in augment_list:\n",
    "            val = min_val + float(max_val - min_val) * random.random()\n",
    "            print(op)\n",
    "            img = op(img, val)\n",
    "    return img"
   ]
  },
  {
   "cell_type": "markdown",
   "metadata": {},
   "source": [
    " ## 3- Plotting and saving the augmented image"
   ]
  },
  {
   "cell_type": "code",
   "execution_count": null,
   "metadata": {},
   "outputs": [],
   "source": [
    "plt.close()\n",
    "fig,ax = plt.subplots(3,3)\n",
    "\n",
    "augmentation_applied_list=[]\n",
    "idx_list=[]\n",
    "for n in range(3):\n",
    "    for m in range(3):\n",
    "        augmentation_applied=random.sample(augmentations_list, 3)\n",
    "        augmentation_applied_list.append(augmentation_applied)\n",
    "        img_augm = apply_augment(img, augmentation_applied)\n",
    "        ax[n,m].axis('off')\n",
    "        ax[n,m].set_title(\"[\"+str(n)+\",\"+str(m)+\"]\", fontweight='bold')\n",
    "        ax[n,m].imshow(img_augm)\n",
    "        idx_list.append([n,m])\n",
    "\n",
    "for n in range(len(idx_list)):\n",
    "    print(\"Image \"+str(idx_list[n])+\": \"+str(augmentation_applied_list[n]))"
   ]
  },
  {
   "cell_type": "code",
   "execution_count": null,
   "metadata": {},
   "outputs": [],
   "source": []
  },
  {
   "cell_type": "code",
   "execution_count": null,
   "metadata": {},
   "outputs": [],
   "source": []
  }
 ],
 "metadata": {
  "kernelspec": {
   "display_name": "Python 3 (ipykernel)",
   "language": "python",
   "name": "python3"
  },
  "language_info": {
   "codemirror_mode": {
    "name": "ipython",
    "version": 3
   },
   "file_extension": ".py",
   "mimetype": "text/x-python",
   "name": "python",
   "nbconvert_exporter": "python",
   "pygments_lexer": "ipython3",
   "version": "3.8.16"
  }
 },
 "nbformat": 4,
 "nbformat_minor": 4
}
